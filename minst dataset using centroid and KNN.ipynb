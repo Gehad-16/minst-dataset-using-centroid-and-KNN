{
  "nbformat": 4,
  "nbformat_minor": 0,
  "metadata": {
    "colab": {
      "name": "assignment1_knn.ipynb",
      "provenance": [],
      "collapsed_sections": []
    },
    "kernelspec": {
      "name": "python3",
      "display_name": "Python 3"
    },
    "language_info": {
      "name": "python"
    }
  },
  "cells": [
    {
      "cell_type": "markdown",
      "metadata": {
        "id": "wftJ0DswuKpo"
      },
      "source": [
        ""
      ]
    },
    {
      "cell_type": "markdown",
      "metadata": {
        "id": "o8_EYOLguMK9"
      },
      "source": [
        "# **imortes**"
      ]
    },
    {
      "cell_type": "code",
      "metadata": {
        "id": "_KL4is1j_00w"
      },
      "source": [
        "\n",
        "import numpy as np\n",
        "import tensorflow as tf\n",
        "from sklearn.metrics import accuracy_score\n",
        "from sklearn.multiclass import OneVsRestClassifier\n",
        "from sklearn.neighbors import KNeighborsClassifier\n",
        "import math\n",
        "import matplotlib.pyplot as plt\n",
        "\n"
      ],
      "execution_count": 3,
      "outputs": []
    },
    {
      "cell_type": "markdown",
      "metadata": {
        "id": "Vvcw67Int-9B"
      },
      "source": [
        "# **reading images**"
      ]
    },
    {
      "cell_type": "code",
      "metadata": {
        "colab": {
          "base_uri": "https://localhost:8080/",
          "height": 300
        },
        "id": "0jUcKsg-ABzD",
        "outputId": "8e3eaef6-7d26-4fbd-969a-6dc9ffe366d4"
      },
      "source": [
        "\n",
        "(x_train, y_train), (x_test, y_test) = tf.keras.datasets.mnist.load_data()\n",
        "\n",
        "i_image = 2 \n",
        "print(y_train[i_image]) \n",
        "plt.imshow(x_train[i_image], cmap='Greys')\n",
        "\n"
      ],
      "execution_count": 4,
      "outputs": [
        {
          "output_type": "stream",
          "text": [
            "4\n"
          ],
          "name": "stdout"
        },
        {
          "output_type": "execute_result",
          "data": {
            "text/plain": [
              "<matplotlib.image.AxesImage at 0x7ff3eda41d90>"
            ]
          },
          "metadata": {
            "tags": []
          },
          "execution_count": 4
        },
        {
          "output_type": "display_data",
          "data": {
            "image/png": "[encoded data removed]",
            "text/plain": [
              "<Figure size 432x288 with 1 Axes>"
            ]
          },
          "metadata": {
            "tags": [],
            "needs_background": "light"
          }
        }
      ]
    },
    {
      "cell_type": "markdown",
      "metadata": {
        "id": "9mWtrCVesyt9"
      },
      "source": [
        "# **Centroid and grid function**"
      ]
    },
    {
      "cell_type": "code",
      "metadata": {
        "id": "0XkZG3xdld8r"
      },
      "source": [
        "def CenetroizdAndGrid(image , grid):\n",
        "    row, col = image.shape\n",
        "    image_grids=[[0 for i in range(grid)] for j in range(grid)]\n",
        "\n",
        "    row2, col2 = math.ceil(row/grid), math.ceil(col/grid)\n",
        "\n",
        "    rnew , cnew=0 ,0\n",
        "   \n",
        "    \n",
        "    rc=0\n",
        "    for i in range(grid-1):\n",
        "        cnew=0\n",
        "        rc=rc+row2\n",
        "        \n",
        "        for j in range(grid-1):\n",
        "            image_grids[i][j]=[[0 for ee in range(row2)] for rr in range(col2)]\n",
        "            image_grids[i][j]=image[rnew:row2+rnew , cnew:col2+cnew ]\n",
        "            cnew=cnew+col2\n",
        "        rnew=rnew+row2\n",
        "\n",
        "    if (28-rc==0):\n",
        "       rc=row2\n",
        "    else:\n",
        "      rc=28-rc\n",
        "    \n",
        "    rnew=0\n",
        "    for i in range(grid-1):\n",
        "         image_grids[i][grid-1]=[[0 for ee in range(row2)] for rr in range(rc)]\n",
        "         image_grids[i][grid-1]=image[rnew:row2+rnew , cnew:   ]\n",
        "         rnew=rnew+row2\n",
        "         \n",
        "    cnew=0\n",
        "    for j in range(grid-1):\n",
        "         image_grids[grid-1][j]=[[0 for ee in range(rc)] for rr in range(col2)]\n",
        "         image_grids[grid-1][j]=image[rnew:  , cnew:col2+cnew ]\n",
        "         cnew=cnew+col2\n",
        "\n",
        "\n",
        "    image_grids[grid-1][grid-1]=[[0 for ee in range(rc)] for rr in range(rc)]\n",
        "\n",
        "    image_grids[grid-1][grid-1]=image[rnew:  , cnew: ]\n",
        "\n",
        "\n",
        "\n",
        "\n",
        "    feature_vector=np.zeros((1,(2*grid*grid)))\n",
        "    count=0\n",
        "    SumX , SumY , sum_image_box =0,0,0\n",
        " \n",
        "    \n",
        "    for a in range(grid):\n",
        "        for b in range(grid):\n",
        "          image_box=image_grids[a][b]\n",
        "         \n",
        "          for i in range(image_box.shape[0]):\n",
        "              for j in range(image_box.shape[1]):\n",
        "                 SumX=SumX+image_box[i][j]*i\n",
        "                 SumY=SumY+image_box[i][j]*j\n",
        "                 sum_image_box=sum_image_box+image_box[i][j]\n",
        "              \n",
        "          if sum_image_box!=0 :\n",
        "             Xc =SumX / sum_image_box\n",
        "             Yc = SumY / sum_image_box\n",
        "            \n",
        "             feature_vector[0][count]=Xc\n",
        "             feature_vector[0][count+1]=Yc\n",
        "             count=count+2\n",
        "          else :\n",
        "               Xc =0\n",
        "               Yc = 0\n",
        "               feature_vector[0][count]=Xc\n",
        "               feature_vector[0][count+1]=Yc\n",
        "               count=count+2\n",
        "  \n",
        "    return feature_vector"
      ],
      "execution_count": 33,
      "outputs": []
    },
    {
      "cell_type": "markdown",
      "metadata": {
        "id": "Ldr1nYZBtHZ4"
      },
      "source": [
        "# [**calling function and new x train**]"
      ]
    },
    {
      "cell_type": "code",
      "metadata": {
        "colab": {
          "base_uri": "https://localhost:8080/"
        },
        "id": "JVwYeWRPACEG",
        "outputId": "f5d789d4-7cad-4cb7-e36c-562f0aa4d673"
      },
      "source": [
        "grid=3\n",
        "c=0\n",
        "new_Xtrain=np.zeros([ len(x_train),2*grid*grid])\n",
        "for i in range(len(x_train)):\n",
        "      image=np.array(x_train[i])\n",
        "      new_Xtrain[i]=CenetroizdAndGrid(image,grid)    \n",
        "print(new_Xtrain)\n",
        "print(new_Xtrain.shape)\n",
        "\n",
        "\n"
      ],
      "execution_count": 34,
      "outputs": [
        {
          "output_type": "stream",
          "text": [
            "[[7.67267267 8.47372372 7.18904261 ... 4.64719346 4.96911898 4.64719346]\n",
            " [0.         0.         6.91843524 ... 4.57417591 4.41550088 4.57417591]\n",
            " [7.84166667 4.475      7.99362606 ... 5.31039449 4.40909325 5.31039449]\n",
            " ...\n",
            " [9.         9.         7.55857741 ... 4.34773179 4.42034159 4.34773179]\n",
            " [0.         0.         5.94505495 ... 4.82636577 4.40909536 4.82636577]\n",
            " [0.         0.         7.79762206 ... 3.97313576 4.61343212 3.97313576]]\n",
            "(60000, 18)\n"
          ],
          "name": "stdout"
        }
      ]
    },
    {
      "cell_type": "markdown",
      "metadata": {
        "id": "CzTzbXBJtP7a"
      },
      "source": [
        "# **new X test**"
      ]
    },
    {
      "cell_type": "code",
      "metadata": {
        "colab": {
          "base_uri": "https://localhost:8080/"
        },
        "id": "5jtHoJgCSekR",
        "outputId": "13221e29-10b2-49cd-db2c-be9092d18db2"
      },
      "source": [
        "new_Xtest=np.zeros([ len(x_test),2*grid*grid])\n",
        "for i in range(len(x_test)):\n",
        "    array=np.array(x_test[i])\n",
        "    new_Xtest[i]=CenetroizdAndGrid(array,grid)   \n",
        "print(new_Xtest)\n",
        "print(new_Xtest.shape)"
      ],
      "execution_count": 35,
      "outputs": [
        {
          "output_type": "stream",
          "text": [
            "[[7.89015544 7.59585492 8.31782347 ... 4.66598028 5.51029587 4.66598028]\n",
            " [5.92844778 8.44662435 5.57205975 ... 4.29805507 3.61414211 4.1169844 ]\n",
            " [0.         0.         6.53597413 ... 4.14365313 4.32762638 4.14365313]\n",
            " ...\n",
            " [9.         9.         7.8427762  ... 4.05309432 4.37231022 4.05309432]\n",
            " [0.         0.         8.93526635 ... 4.07846681 3.73334839 4.07846681]\n",
            " [6.25423729 9.         5.83957331 ... 4.50016756 4.9085411  4.49415533]]\n",
            "(10000, 18)\n"
          ],
          "name": "stdout"
        }
      ]
    },
    {
      "cell_type": "markdown",
      "metadata": {
        "id": "J2TIQTjEtht6"
      },
      "source": [
        "# **KNN classifire**"
      ]
    },
    {
      "cell_type": "code",
      "metadata": {
        "colab": {
          "base_uri": "https://localhost:8080/"
        },
        "id": "L9JlMQEaACId",
        "outputId": "b0d2a6eb-7003-4210-8196-d1ab97a4cf5f"
      },
      "source": [
        "KNN=OneVsRestClassifier(KNeighborsClassifier())\n",
        "KNN.fit(new_Xtrain,y_train)\n"
      ],
      "execution_count": 36,
      "outputs": [
        {
          "output_type": "execute_result",
          "data": {
            "text/plain": [
              "OneVsRestClassifier(estimator=KNeighborsClassifier(algorithm='auto',\n",
              "                                                   leaf_size=30,\n",
              "                                                   metric='minkowski',\n",
              "                                                   metric_params=None,\n",
              "                                                   n_jobs=None, n_neighbors=5,\n",
              "                                                   p=2, weights='uniform'),\n",
              "                    n_jobs=None)"
            ]
          },
          "metadata": {
            "tags": []
          },
          "execution_count": 36
        }
      ]
    },
    {
      "cell_type": "markdown",
      "metadata": {
        "id": "dpgfHmVstt9y"
      },
      "source": [
        "# **predict and print accuracy**"
      ]
    },
    {
      "cell_type": "code",
      "metadata": {
        "colab": {
          "base_uri": "https://localhost:8080/"
        },
        "id": "xEUbc3-3ACNR",
        "outputId": "b177e1bb-d40f-4b54-995e-e46ec57b8442"
      },
      "source": [
        "\n",
        "Y_predicted=KNN.predict(new_Xtest)\n",
        "sc=accuracy_score(y_test, Y_predicted)\n",
        "\n",
        "print('%' , sc*100)"
      ],
      "execution_count": 37,
      "outputs": [
        {
          "output_type": "stream",
          "text": [
            "% 85.18\n"
          ],
          "name": "stdout"
        }
      ]
    },
    {
      "cell_type": "code",
      "metadata": {
        "id": "jp7MnAQtGbjB"
      },
      "source": [
        "\n",
        "#when grid=3 score=0.8518\n",
        "#when grid=4 score=0.8528\n",
        "#when grid=5 score=0.8195\n",
        "#when grid=6 score=0.7755"
      ],
      "execution_count": 40,
      "outputs": []
    }
  ]
}